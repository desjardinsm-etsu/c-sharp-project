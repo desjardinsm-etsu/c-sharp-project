{
 "cells": [
  {
   "cell_type": "markdown",
   "metadata": {},
   "source": [
    "# Keywords\n",
    "\n",
    "**Keywords** are predefined, reserved identifiers that have special meanings to the compiler. They cannot be used as identifiers in your program unless they include `@` as a prefix. For example, `@if` is a valid identifier, but `if` is not because `if` is a **keyword**. *(Avoid using keywords as identifiers.)*"
   ]
  },
  {
   "cell_type": "markdown",
   "metadata": {},
   "source": [
    "### Value type Keywords\n",
    "\n",
    "Value types and reference types are the two main categories of C# types."
   ]
  },
  {
   "cell_type": "markdown",
   "metadata": {},
   "source": [
    "`bool`\n",
    ">Represents a Boolean value, which can either be `true` or `false`."
   ]
  },
  {
   "cell_type": "code",
   "execution_count": 2,
   "metadata": {},
   "outputs": [],
   "source": [
    "bool booleanValue = true;"
   ]
  },
  {
   "cell_type": "markdown",
   "metadata": {},
   "source": [
    "`byte`\n",
    ">Integral numeric type. Range: 0 to 255"
   ]
  },
  {
   "cell_type": "code",
   "execution_count": 3,
   "metadata": {},
   "outputs": [],
   "source": [
    "byte byteValue = 15;"
   ]
  },
  {
   "cell_type": "markdown",
   "metadata": {},
   "source": [
    "`char`\n",
    ">Represents a Unicode UTF-16 character."
   ]
  },
  {
   "cell_type": "code",
   "execution_count": null,
   "metadata": {},
   "outputs": [],
   "source": [
    "char charValue = 'A';"
   ]
  },
  {
   "cell_type": "markdown",
   "metadata": {},
   "source": [
    "`decimal`\n",
    ">A floating-point numeric types representing a real number. \n",
    "\n",
    ">Range: ±1.0 x 10<sup>-28</sup> to ±7.9228 x 10<sup>28</sup>\n",
    "\n",
    ">Precision: 28 - 29 digits"
   ]
  },
  {
   "cell_type": "code",
   "execution_count": null,
   "metadata": {},
   "outputs": [],
   "source": [
    "decimal myMoney = 3_000.5m;"
   ]
  },
  {
   "cell_type": "markdown",
   "metadata": {},
   "source": [
    "`double`\n",
    ">A floating-point numeric types representing a real number. \n",
    "\n",
    ">Range: ±5.0 × 10<sup>−324</sup> to ±1.7 × 10<sup>308</sup>\n",
    "\n",
    ">Precision: ~15 - 17 digits"
   ]
  },
  {
   "cell_type": "code",
   "execution_count": null,
   "metadata": {},
   "outputs": [],
   "source": [
    "double d = 3D;"
   ]
  },
  {
   "cell_type": "markdown",
   "metadata": {},
   "source": [
    "`float`\n",
    ">A floating-point numeric types representing a real number. \n",
    "\n",
    ">Range: ±1.5 x 10<sup>−45</sup> to ±3.4 x 10<sup>38<sup>\n",
    "\n",
    ">Precision: ~6 - 9 digits"
   ]
  },
  {
   "cell_type": "code",
   "execution_count": 2,
   "metadata": {},
   "outputs": [],
   "source": [
    "float f = 3_000.5F;"
   ]
  },
  {
   "cell_type": "markdown",
   "metadata": {},
   "source": [
    "`int`\n",
    ">Integral numeric type. Range: -2,147,483,648 to 2,147,483,647"
   ]
  },
  {
   "cell_type": "code",
   "execution_count": 4,
   "metadata": {},
   "outputs": [],
   "source": [
    "int intValue = 2365;"
   ]
  },
  {
   "cell_type": "markdown",
   "metadata": {},
   "source": [
    "### Selection / Decision Structure Keywords \n",
    "\n",
    "`break`\n",
    ">The `break` statement terminates the closest enclosing `loop` or `switch` statement in which it appears. Control is passed to the statement that follows the terminated statement, if any. *(Try to avoid)*\n",
    "\n",
    "`case`\n",
    ">The list of values in a `switch` statement. A `switch` statement will compare a `case` and if the \"switching\" value. If the \"switching\" value and the `case` are equal, the code in the `case` statement code block will execute, as well as statements in the following `cases`.\n",
    "\n",
    "`if`\n",
    ">\n",
    "\n",
    "`switch`\n",
    ">The `switch` statement evaluates a variable, matching the variable's equality to a list of values known as `cases`, and executes statements associated with that `case`, as well as statements in `cases` that follow the matching `case`."
   ]
  },
  {
   "cell_type": "markdown",
   "metadata": {},
   "source": [
    "### Exception Handling Keywords\n",
    "\n",
    "`catch`\n",
    ">The `catch` block executes if an error occurs in the associated `try` statement block."
   ]
  },
  {
   "cell_type": "markdown",
   "metadata": {},
   "source": [
    "### Repetition / Loop Structure Keywords"
   ]
  },
  {
   "cell_type": "markdown",
   "metadata": {},
   "source": [
    "`continue`\n",
    ">The continue statement passes control to the next iteration of the enclosing `while`, `do`, `for`, or `foreach` statement in which it appears."
   ]
  },
  {
   "cell_type": "code",
   "execution_count": 2,
   "metadata": {},
   "outputs": [
    {
     "name": "stdout",
     "output_type": "stream",
     "text": [
      "9\n",
      "10\n"
     ]
    }
   ],
   "source": [
    "/*In this example, a counter is initialized to count from 1 to 10. By using the continue statement \n",
    "in conjunction with the expression (i < 9), the statements between continue and the end of the for \n",
    "body are skipped in the iterations where i is less than 9. In the last two iterations of the \n",
    "for loop (where i == 9 and i == 10), the continue statement is not executed and the value of i is \n",
    "printed to the console.*/\n",
    "\n",
    "for (int i = 1; i <= 10; i++)\n",
    "{\n",
    "    if (i < 9)\n",
    "    {\n",
    "        continue;\n",
    "    }\n",
    "    Console.WriteLine(i);\n",
    "}"
   ]
  },
  {
   "cell_type": "markdown",
   "metadata": {},
   "source": [
    "### Other Keywords"
   ]
  },
  {
   "cell_type": "markdown",
   "metadata": {},
   "source": [
    "`abstract`\n",
    ">The `abstract` modifier indicates that the thing being modified has a missing or incomplete implementation."
   ]
  },
  {
   "cell_type": "markdown",
   "metadata": {},
   "source": [
    "`as`\n",
    ">The `as` operator explicitly convers the results of an expression to a given reference or nulluable value type. If the conversion is not possible, the `as` operator returns `null`. Unlike a `cast` expression, the as operator never throws an `exception`. \n",
    "\n",
    "`base`\n",
    ">The `base` keyword is used to access members of the `base class` from within a `derived class`. A `base class` access is permitted **only** in a `constructor`, an `instance method`, or an `instance property accessor (getter)`.\n",
    "\n",
    "`break`\n",
    ">The `break` statement terminates the closest enclosing `loop` or `switch` statement in which it appears. Control is passed to the statement that follows the terminated statement, if any. *(Try to avoid)*\n",
    "\n",
    "`checked`\n",
    ">The `checked` keyword is used to explicitly enable overflow checking for integral-type arithmetic operations and conversions.\n",
    "\n",
    "`class`\n",
    ">A `class` is blueprint or a set of instructions to build a specific type of `object`. It is a basic concept of Object-Oriented Programming which revolve around the real-life entities (`objects`). A `class` determines how an `object` will behave and what the `object` will contain."
   ]
  },
  {
   "cell_type": "markdown",
   "metadata": {},
   "source": [
    "`const`\n",
    ">The `const` keyword is used to declare a constant ~~variable~~. Constant fields and locals aren't variables and may not be modified. Constants can be numbers, Boolean values, strings, or a `null` reference. Don’t create a constant to represent information that you expect to change at any time.\n"
   ]
  },
  {
   "cell_type": "code",
   "execution_count": 1,
   "metadata": {},
   "outputs": [
    {
     "data": {
      "text/html": [
       "\r\n",
       "<div>\r\n",
       "    <div id='dotnet-interactive-this-cell-7527.Microsoft.DotNet.Interactive.Http.HttpPort' style='display: none'>\r\n",
       "        The below script needs to be able to find the current output cell; this is an easy method to get it.\r\n",
       "    </div>\r\n",
       "    <script type='text/javascript'>\r\n",
       "async function probeAddresses(probingAddresses) {\r\n",
       "    function timeout(ms, promise) {\r\n",
       "        return new Promise(function (resolve, reject) {\r\n",
       "            setTimeout(function () {\r\n",
       "                reject(new Error('timeout'))\r\n",
       "            }, ms)\r\n",
       "            promise.then(resolve, reject)\r\n",
       "        })\r\n",
       "    }\r\n",
       "\r\n",
       "    if (Array.isArray(probingAddresses)) {\r\n",
       "        for (let i = 0; i < probingAddresses.length; i++) {\r\n",
       "\r\n",
       "            let rootUrl = probingAddresses[i];\r\n",
       "\r\n",
       "            if (!rootUrl.endsWith('/')) {\r\n",
       "                rootUrl = `${rootUrl}/`;\r\n",
       "            }\r\n",
       "\r\n",
       "            try {\r\n",
       "                let response = await timeout(1000, fetch(`${rootUrl}discovery`, {\r\n",
       "                    method: 'POST',\r\n",
       "                    cache: 'no-cache',\r\n",
       "                    mode: 'cors',\r\n",
       "                    timeout: 1000,\r\n",
       "                    headers: {\r\n",
       "                        'Content-Type': 'text/plain'\r\n",
       "                    },\r\n",
       "                    body: probingAddresses[i]\r\n",
       "                }));\r\n",
       "\r\n",
       "                if (response.status == 200) {\r\n",
       "                    return rootUrl;\r\n",
       "                }\r\n",
       "            }\r\n",
       "            catch (e) { }\r\n",
       "        }\r\n",
       "    }\r\n",
       "}\r\n",
       "\r\n",
       "function loadDotnetInteractiveApi() {\r\n",
       "    probeAddresses([\"http://172.16.7.5:1026/\", \"http://10.10.1.56:1026/\", \"http://127.0.0.1:1026/\"])\r\n",
       "        .then((root) => {\r\n",
       "        // use probing to find host url and api resources\r\n",
       "        // load interactive helpers and language services\r\n",
       "        let dotnetInteractiveRequire = require.config({\r\n",
       "        context: '7527.Microsoft.DotNet.Interactive.Http.HttpPort',\r\n",
       "                paths:\r\n",
       "            {\r\n",
       "                'dotnet-interactive': `${root}resources`\r\n",
       "                }\r\n",
       "        }) || require;\r\n",
       "\r\n",
       "            window.dotnetInteractiveRequire = dotnetInteractiveRequire;\r\n",
       "\r\n",
       "            window.configureRequireFromExtension = function(extensionName, extensionCacheBuster) {\r\n",
       "                let paths = {};\r\n",
       "                paths[extensionName] = `${root}extensions/${extensionName}/resources/`;\r\n",
       "                \r\n",
       "                let internalRequire = require.config({\r\n",
       "                    context: extensionCacheBuster,\r\n",
       "                    paths: paths,\r\n",
       "                    urlArgs: `cacheBuster=${extensionCacheBuster}`\r\n",
       "                    }) || require;\r\n",
       "\r\n",
       "                return internalRequire\r\n",
       "            };\r\n",
       "        \r\n",
       "            dotnetInteractiveRequire([\r\n",
       "                    'dotnet-interactive/dotnet-interactive'\r\n",
       "                ],\r\n",
       "                function (dotnet) {\r\n",
       "                    dotnet.init(window);\r\n",
       "                },\r\n",
       "                function (error) {\r\n",
       "                    console.log(error);\r\n",
       "                }\r\n",
       "            );\r\n",
       "        })\r\n",
       "        .catch(error => {console.log(error);});\r\n",
       "    }\r\n",
       "\r\n",
       "// ensure `require` is available globally\r\n",
       "if ((typeof(require) !==  typeof(Function)) || (typeof(require.config) !== typeof(Function))) {\r\n",
       "    let require_script = document.createElement('script');\r\n",
       "    require_script.setAttribute('src', 'https://cdnjs.cloudflare.com/ajax/libs/require.js/2.3.6/require.min.js');\r\n",
       "    require_script.setAttribute('type', 'text/javascript');\r\n",
       "    \r\n",
       "    \r\n",
       "    require_script.onload = function() {\r\n",
       "        loadDotnetInteractiveApi();\r\n",
       "    };\r\n",
       "\r\n",
       "    document.getElementsByTagName('head')[0].appendChild(require_script);\r\n",
       "}\r\n",
       "else {\r\n",
       "    loadDotnetInteractiveApi();\r\n",
       "}\r\n",
       "\r\n",
       "    </script>\r\n",
       "</div>"
      ]
     },
     "metadata": {},
     "output_type": "display_data"
    },
    {
     "name": "stderr",
     "output_type": "stream",
     "text": [
      "\n",
      "(2,1): error CS0131: The left-hand side of an assignment must be a variable, property or indexer\n",
      "\n"
     ]
    },
    {
     "ename": "Cell not executed",
     "evalue": "compilation error",
     "output_type": "error",
     "traceback": []
    }
   ],
   "source": [
    "const int X = 0;\n",
    "X = 10; //This should generate an error!"
   ]
  },
  {
   "cell_type": "markdown",
   "metadata": {},
   "source": [
    "`unchecked`\n",
    ">The `unchecked` keyword is used to explicitly enable overflow checking for integral-type arithmetic operations and conversions."
   ]
  },
  {
   "cell_type": "code",
   "execution_count": null,
   "metadata": {},
   "outputs": [],
   "source": []
  }
 ],
 "metadata": {
  "kernelspec": {
   "display_name": ".NET (C#)",
   "language": "C#",
   "name": ".net-csharp"
  },
  "language_info": {
   "file_extension": ".cs",
   "mimetype": "text/x-csharp",
   "name": "C#",
   "pygments_lexer": "csharp",
   "version": "8.0"
  }
 },
 "nbformat": 4,
 "nbformat_minor": 4
}
