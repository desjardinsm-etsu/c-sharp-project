{
 "cells": [
  {
   "cell_type": "markdown",
   "metadata": {},
   "source": [
    "# Keywords\n",
    "\n",
    "**Keywords** are predefined, reserved identifiers that have special meanings to the compiler. They cannot be used as identifiers in your program unless they include `@` as a prefix. For example, `@if` is a valid identifier, but `if` is not because `if` is a **keyword**. *(Avoid using keywords as identifiers.)*"
   ]
  },
  {
   "cell_type": "markdown",
   "metadata": {},
   "source": [
    "### Value type Keywords\n",
    "\n",
    "Value types and reference types are the two main categories of C# types."
   ]
  },
  {
   "cell_type": "markdown",
   "metadata": {},
   "source": [
    "`bool`\n",
    ">Represents a Boolean value, which can either be `true` or `false`."
   ]
  },
  {
   "cell_type": "code",
   "execution_count": null,
   "metadata": {},
   "outputs": [],
   "source": [
    "bool trueOrFalse = true;"
   ]
  },
  {
   "cell_type": "markdown",
   "metadata": {},
   "source": [
    "`byte`\n",
    ">Integral numeric type. Range: 0 to 255"
   ]
  },
  {
   "cell_type": "code",
   "execution_count": null,
   "metadata": {},
   "outputs": [],
   "source": [
    "byte byteValue = 15;"
   ]
  },
  {
   "cell_type": "markdown",
   "metadata": {},
   "source": [
    "`char`\n",
    ">Represents a Unicode UTF-16 character."
   ]
  },
  {
   "cell_type": "code",
   "execution_count": null,
   "metadata": {},
   "outputs": [],
   "source": [
    "char charValue = 'A';"
   ]
  },
  {
   "cell_type": "markdown",
   "metadata": {},
   "source": [
    "`int`\n",
    ">"
   ]
  },
  {
   "cell_type": "markdown",
   "metadata": {},
   "source": [
    "`decimal`\n",
    ">"
   ]
  },
  {
   "cell_type": "markdown",
   "metadata": {},
   "source": [
    "`double`\n",
    ">"
   ]
  },
  {
   "cell_type": "markdown",
   "metadata": {},
   "source": [
    "### Selection / Decision Structure Keywords \n",
    "\n",
    "`break`\n",
    ">The `break` statement terminates the closest enclosing `loop` or `switch` statement in which it appears. Control is passed to the statement that follows the terminated statement, if any. *(Try to avoid)*\n",
    "\n",
    "`case`\n",
    ">The list of values in a `switch` statement. A `switch` statement will compare a `case` and if the \"switching\" value. If the \"switching\" value and the `case` are equal, the code in the `case` statement code block will execute, as well as statements in the following `cases`.\n",
    "\n",
    "`if`\n",
    ">\n",
    "\n",
    "`switch`\n",
    ">The `switch` statement evaluates a variable, matching the variable's equality to a list of values known as `cases`, and executes statements associated with that `case`, as well as statements in `cases` that follow the matching `case`."
   ]
  },
  {
   "cell_type": "markdown",
   "metadata": {},
   "source": [
    "### Exception Handling Keywords\n",
    "\n",
    "`catch`\n",
    ">The `catch` block executes if an error occurs in the associated `try` statement block."
   ]
  },
  {
   "cell_type": "markdown",
   "metadata": {},
   "source": [
    "### Other Keywords\n",
    "`abstract`\n",
    ">The `abstract` modifier indicates that the thing being modified has a missing or incomplete implementation.\n",
    "\n",
    "`as`\n",
    ">The `as` operator explicitly convers the results of an expression to a given reference or nulluable value type. If the conversion is not possible, the `as` operator returns `null`. Unlike a `cast` expression, the as operator never throws an `exception`. \n",
    "\n",
    "`base`\n",
    ">The `base` keyword is used to access members of the `base class` from within a `derived class`. A `base class` access is permitted **only** in a `constructor`, an `instance method`, or an `instance property accessor (getter)`.\n",
    "\n",
    "`break`\n",
    ">The `break` statement terminates the closest enclosing `loop` or `switch` statement in which it appears. Control is passed to the statement that follows the terminated statement, if any. *(Try to avoid)*\n",
    "\n",
    "`checked`\n",
    ">The `checked` keyword is used to explicitly enable overflow checking for integral-type arithmetic operations and conversions.\n",
    "\n",
    "`class`\n",
    ">A `class` is blueprint or a set of instructions to build a specific type of `object`. It is a basic concept of Object-Oriented Programming which revolve around the real-life entities (`objects`). A `class` determines how an `object` will behave and what the `object` will contain."
   ]
  },
  {
   "cell_type": "markdown",
   "metadata": {},
   "source": [
    "`const`\n",
    ">The `const` keyword is used to declare a constant ~~variable~~. Constant fields and locals aren't variables and may not be modified. Constants can be numbers, Boolean values, strings, or a `null` reference. Don’t create a constant to represent information that you expect to change at any time.\n"
   ]
  },
  {
   "cell_type": "code",
   "execution_count": null,
   "metadata": {},
   "outputs": [],
   "source": [
    "const int X = 0;\n",
    "X = 10; //This should generate an error!"
   ]
  },
  {
   "cell_type": "markdown",
   "metadata": {},
   "source": [
    "`unchecked`\n",
    ">The `unchecked` keyword is used to explicitly enable overflow checking for integral-type arithmetic operations and conversions."
   ]
  },
  {
   "cell_type": "code",
   "execution_count": null,
   "metadata": {},
   "outputs": [],
   "source": []
  }
 ],
 "metadata": {
  "kernelspec": {
   "display_name": ".NET (C#)",
   "language": "C#",
   "name": ".net-csharp"
  },
  "language_info": {
   "file_extension": ".cs",
   "mimetype": "text/x-csharp",
   "name": "C#",
   "pygments_lexer": "csharp",
   "version": "8.0"
  }
 },
 "nbformat": 4,
 "nbformat_minor": 4
}
